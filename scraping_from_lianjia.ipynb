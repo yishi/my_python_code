{
 "metadata": {
  "name": "",
  "signature": "sha256:c06765b4516bdbc138822c771b08cd7aa4bb094dfc8abc70f3142e212e84ba08"
 },
 "nbformat": 3,
 "nbformat_minor": 0,
 "worksheets": [
  {
   "cells": [
    {
     "cell_type": "markdown",
     "metadata": {},
     "source": [
      "### Scraping data from lianjia\n",
      "\n",
      "end on 20170208"
     ]
    },
    {
     "cell_type": "code",
     "collapsed": false,
     "input": [
      "import urllib2\n",
      "from lxml import etree\n",
      "import pandas as pd\n",
      "import time"
     ],
     "language": "python",
     "metadata": {},
     "outputs": [],
     "prompt_number": 1
    },
    {
     "cell_type": "code",
     "collapsed": false,
     "input": [
      "# download web page\n",
      "def download(url, user_agent = 'wswp', num_retries = 2):\n",
      "    print 'Downloading:', url\n",
      "    headers = {'User-agent': user_agent}\n",
      "    url = urllib2.quote(url.encode('utf-8'), \":?=/\")\n",
      "    request = urllib2.Request(url, headers = headers)\n",
      "    try:\n",
      "        html = urllib2.urlopen(request).read()\n",
      "    except urllib2.URLError as e:\n",
      "        print 'Download error:', e.reason\n",
      "        html = None\n",
      "        if num_retries > 0:\n",
      "            if hasattr(e, 'code') and 500 <= e.code < 600:\n",
      "                return download(url, user_agent, num_retries-1)\n",
      "    return html"
     ],
     "language": "python",
     "metadata": {},
     "outputs": [],
     "prompt_number": 2
    },
    {
     "cell_type": "code",
     "collapsed": false,
     "input": [
      "# get 30 item from one page which house is on the market to sell\n",
      "def get_price_new(url):\n",
      "    # download the web page 1\n",
      "    raw_web = download(url)\n",
      "    # \u4f7f\u7528lxml\u524d\u6ce8\u610f\u4e8b\u9879\uff1a\u5148\u786e\u4fddhtml\u7ecf\u8fc7\u4e86utf-8\u89e3\u7801\uff0c\u5373code = html.decode('utf-8', 'ignore')\uff0c\u5426\u5219\u4f1a\u51fa\u73b0\u89e3\u6790\u51fa\u9519\u60c5\u51b5\u3002\n",
      "    #\u56e0\u4e3a\u4e2d\u6587\u88ab\u7f16\u7801\u6210utf-8\u4e4b\u540e\u53d8\u6210 '/u2541'\u3000\u4e4b\u7c7b\u7684\u5f62\u5f0f\uff0clxml\u4e00\u9047\u5230\u3000\u201c/\u201d\u5c31\u4f1a\u8ba4\u4e3a\u5176\u6807\u7b7e\u7ed3\u675f\u3002\n",
      "    page = etree.HTML(raw_web.lower().decode('utf-8'))\n",
      "    \n",
      "    tag_1 = page.xpath(u\"//a[@class='title']\")\n",
      "    # get title\n",
      "    title = [x.text for x in tag_1]\n",
      "    # get title link\n",
      "    title_link = [x.attrib['href'] for x in tag_1]\n",
      "    \n",
      "    # get region\n",
      "    tag_2 = page.xpath(u\"//a[@data-el='region']\")\n",
      "    region = [x.text for x in tag_2]\n",
      "    \n",
      "    # get unit price\n",
      "    tag_3 = page.xpath(u\"//span\")\n",
      "    price_unit = [x.text for x in tag_3 if x.text != None if x.text.find(u'\u5355\u4ef7') != -1]\n",
      "    price_unit2 = [int(x.replace(u'\u5355\u4ef7', '').replace(u'\u5143/\u5e73\u7c73', '')) for x in price_unit]\n",
      "    # get total price\n",
      "    span_c = [x.text for x in tag_3 if x.text != None]\n",
      "    price_total = [float(span_c[x-1]) for x, char in enumerate(span_c) if char.find(u'\u5355\u4ef7') != -1]\n",
      "    \n",
      "    # get data frame\n",
      "    item_30 = pd.DataFrame(data = {'title' : title, 'title_url' : title_link, 'region' : region, 'price_unit' : price_unit2, 'price_total' : price_total, \n",
      "                                   'time': time.strftime(\"%Y-%m-%d\", time.localtime())})\n",
      "    return item_30"
     ],
     "language": "python",
     "metadata": {},
     "outputs": [],
     "prompt_number": 25
    },
    {
     "cell_type": "code",
     "collapsed": false,
     "input": [
      "# get 100 page and output file which house is on the market to sell\n",
      "def get_price_new_file():\n",
      "    print \"Time Start : %s\" % time.ctime()\n",
      "    # get url list\n",
      "    url_base = 'http://sz.lianjia.com/ershoufang/'\n",
      "    url_list = [url_base + 'pg'+ str(x) +'/' for x in range(2, 101)]\n",
      "    url_list.insert(0, url_base)\n",
      "    \n",
      "    # get the first data frame\n",
      "    output = get_price_new(url_list[0])\n",
      "    # get other data frame\n",
      "    for url in url_list[1:]:\n",
      "        output = output.append(get_price_new(url))\n",
      "    # get csv file\n",
      "    output.to_csv(path_or_buf = 'Price_new_' + time.strftime(\"%Y%m%d\", time.localtime()) + '.csv', encoding = 'utf-8')\n",
      "    print \"Time End : %s\" % time.ctime()"
     ],
     "language": "python",
     "metadata": {},
     "outputs": [],
     "prompt_number": 30
    },
    {
     "cell_type": "markdown",
     "metadata": {},
     "source": [
      "#### similar function to different data source"
     ]
    },
    {
     "cell_type": "code",
     "collapsed": false,
     "input": [
      "# get 30 item from one page which house had been sold\n",
      "def get_price_deal(url):\n",
      "    # download the web page 1\n",
      "    raw_web = download(url)\n",
      "    # \u4f7f\u7528lxml\u524d\u6ce8\u610f\u4e8b\u9879\uff1a\u5148\u786e\u4fddhtml\u7ecf\u8fc7\u4e86utf-8\u89e3\u7801\uff0c\u5373code = html.decode('utf-8', 'ignore')\uff0c\u5426\u5219\u4f1a\u51fa\u73b0\u89e3\u6790\u51fa\u9519\u60c5\u51b5\u3002\n",
      "    #\u56e0\u4e3a\u4e2d\u6587\u88ab\u7f16\u7801\u6210utf-8\u4e4b\u540e\u53d8\u6210 '/u2541'\u3000\u4e4b\u7c7b\u7684\u5f62\u5f0f\uff0clxml\u4e00\u9047\u5230\u3000\u201c/\u201d\u5c31\u4f1a\u8ba4\u4e3a\u5176\u6807\u7b7e\u7ed3\u675f\u3002\n",
      "    page = etree.HTML(raw_web.lower().decode('utf-8'))\n",
      "    \n",
      "    tag_1 = page.xpath(u\"//a[@target='_blank']\")\n",
      "    # get title\n",
      "    a_c = [x.text for x in tag_1 if x.text != None]\n",
      "    title = [a_c[x-1] for x, char in enumerate(a_c) if char.find(u'\u67e5\u770b\u540c\u6237\u578b\u6210\u4ea4\u8bb0\u5f55') != -1]\n",
      "    # get name of the house\n",
      "    title_name = [x.split()[0] for x in title]\n",
      "    # get area of the house\n",
      "    title_area =  [float(x.split()[2].replace(u'\u5e73\u7c73', '')) for x in title]\n",
      "    \n",
      "    tag_2 = page.xpath(u\"//div[@class='dealdate']\")\n",
      "    # get time\n",
      "    deal_time = [x.text for x in tag_2]\n",
      "    \n",
      "    tag_3 = page.xpath(u\"//div[@class='totalprice']/span\")\n",
      "    # get total price \n",
      "    price_total = [float(x.text) for x in tag_3]\n",
      "    \n",
      "    tag_4 = page.xpath(u\"//div[@class='unitprice']/span\")\n",
      "    # get unit price \n",
      "    price_unit = [float(x.text) for x in tag_4]\n",
      "    \n",
      "    # get data frame\n",
      "    item_30 = pd.DataFrame(data = {'title' : title, 'title_name' : title_name, 'title_area' : title_area, 'deal_time' : deal_time, \n",
      "                                   'price_unit' : price_unit, 'price_total' : price_total, \n",
      "                                   'scrape_time': time.strftime(\"%Y-%m-%d\", time.localtime())})\n",
      "    return item_30"
     ],
     "language": "python",
     "metadata": {},
     "outputs": [],
     "prompt_number": 103
    },
    {
     "cell_type": "code",
     "collapsed": false,
     "input": [
      "# get 100 page and output file which house had been sold \n",
      "def get_price_deal_file():\n",
      "    print \"Time Start : %s\" % time.ctime()\n",
      "    # get url list\n",
      "    url_base = 'http://sz.lianjia.com/chengjiao/'\n",
      "    url_list = [url_base + 'pg'+ str(x) +'/' for x in range(2, 101)]\n",
      "    url_list.insert(0, url_base)\n",
      "    \n",
      "    # get the first data frame\n",
      "    output = get_price_deal(url_list[0])\n",
      "    # get other data frame\n",
      "    for url in url_list[1:]:\n",
      "        output = output.append(get_price_deal(url))\n",
      "    # get csv file\n",
      "    output.to_csv(path_or_buf = 'Price_deal_' + time.strftime(\"%Y%m%d\", time.localtime()) + '.csv', encoding = 'utf-8')\n",
      "    print \"Time End : %s\" % time.ctime()"
     ],
     "language": "python",
     "metadata": {},
     "outputs": [],
     "prompt_number": 104
    },
    {
     "cell_type": "markdown",
     "metadata": {},
     "source": [
      "#### Run "
     ]
    },
    {
     "cell_type": "code",
     "collapsed": false,
     "input": [
      "# run to get new price for sale\n",
      "get_price_new_file()"
     ],
     "language": "python",
     "metadata": {},
     "outputs": [
      {
       "output_type": "stream",
       "stream": "stdout",
       "text": [
        "Time Start : Wed Feb 08 11:48:01 2017\n",
        "Downloading: http://sz.lianjia.com/ershoufang/\n",
        "Downloading:"
       ]
      },
      {
       "output_type": "stream",
       "stream": "stdout",
       "text": [
        " http://sz.lianjia.com/ershoufang/pg2/\n",
        "Downloading:"
       ]
      },
      {
       "output_type": "stream",
       "stream": "stdout",
       "text": [
        " http://sz.lianjia.com/ershoufang/pg3/\n",
        "Downloading:"
       ]
      },
      {
       "output_type": "stream",
       "stream": "stdout",
       "text": [
        " http://sz.lianjia.com/ershoufang/pg4/\n",
        "Downloading:"
       ]
      },
      {
       "output_type": "stream",
       "stream": "stdout",
       "text": [
        " http://sz.lianjia.com/ershoufang/pg5/\n",
        "Downloading:"
       ]
      },
      {
       "output_type": "stream",
       "stream": "stdout",
       "text": [
        " http://sz.lianjia.com/ershoufang/pg6/\n",
        "Downloading:"
       ]
      },
      {
       "output_type": "stream",
       "stream": "stdout",
       "text": [
        " http://sz.lianjia.com/ershoufang/pg7/\n",
        "Downloading:"
       ]
      },
      {
       "output_type": "stream",
       "stream": "stdout",
       "text": [
        " http://sz.lianjia.com/ershoufang/pg8/\n",
        "Downloading:"
       ]
      },
      {
       "output_type": "stream",
       "stream": "stdout",
       "text": [
        " http://sz.lianjia.com/ershoufang/pg9/\n",
        "Downloading:"
       ]
      },
      {
       "output_type": "stream",
       "stream": "stdout",
       "text": [
        " http://sz.lianjia.com/ershoufang/pg10/\n",
        "Downloading:"
       ]
      },
      {
       "output_type": "stream",
       "stream": "stdout",
       "text": [
        " http://sz.lianjia.com/ershoufang/pg11/\n",
        "Downloading:"
       ]
      },
      {
       "output_type": "stream",
       "stream": "stdout",
       "text": [
        " http://sz.lianjia.com/ershoufang/pg12/\n",
        "Downloading:"
       ]
      },
      {
       "output_type": "stream",
       "stream": "stdout",
       "text": [
        " http://sz.lianjia.com/ershoufang/pg13/\n",
        "Downloading:"
       ]
      },
      {
       "output_type": "stream",
       "stream": "stdout",
       "text": [
        " http://sz.lianjia.com/ershoufang/pg14/\n",
        "Downloading:"
       ]
      },
      {
       "output_type": "stream",
       "stream": "stdout",
       "text": [
        " http://sz.lianjia.com/ershoufang/pg15/\n",
        "Downloading:"
       ]
      },
      {
       "output_type": "stream",
       "stream": "stdout",
       "text": [
        " http://sz.lianjia.com/ershoufang/pg16/\n",
        "Downloading:"
       ]
      },
      {
       "output_type": "stream",
       "stream": "stdout",
       "text": [
        " http://sz.lianjia.com/ershoufang/pg17/\n",
        "Downloading:"
       ]
      },
      {
       "output_type": "stream",
       "stream": "stdout",
       "text": [
        " http://sz.lianjia.com/ershoufang/pg18/\n",
        "Downloading:"
       ]
      },
      {
       "output_type": "stream",
       "stream": "stdout",
       "text": [
        " http://sz.lianjia.com/ershoufang/pg19/\n",
        "Downloading:"
       ]
      },
      {
       "output_type": "stream",
       "stream": "stdout",
       "text": [
        " http://sz.lianjia.com/ershoufang/pg20/\n",
        "Downloading:"
       ]
      },
      {
       "output_type": "stream",
       "stream": "stdout",
       "text": [
        " http://sz.lianjia.com/ershoufang/pg21/\n",
        "Downloading:"
       ]
      },
      {
       "output_type": "stream",
       "stream": "stdout",
       "text": [
        " http://sz.lianjia.com/ershoufang/pg22/\n",
        "Downloading:"
       ]
      },
      {
       "output_type": "stream",
       "stream": "stdout",
       "text": [
        " http://sz.lianjia.com/ershoufang/pg23/\n",
        "Downloading:"
       ]
      },
      {
       "output_type": "stream",
       "stream": "stdout",
       "text": [
        " http://sz.lianjia.com/ershoufang/pg24/\n",
        "Downloading:"
       ]
      },
      {
       "output_type": "stream",
       "stream": "stdout",
       "text": [
        " http://sz.lianjia.com/ershoufang/pg25/\n",
        "Downloading:"
       ]
      },
      {
       "output_type": "stream",
       "stream": "stdout",
       "text": [
        " http://sz.lianjia.com/ershoufang/pg26/\n",
        "Downloading:"
       ]
      },
      {
       "output_type": "stream",
       "stream": "stdout",
       "text": [
        " http://sz.lianjia.com/ershoufang/pg27/\n",
        "Downloading:"
       ]
      },
      {
       "output_type": "stream",
       "stream": "stdout",
       "text": [
        " http://sz.lianjia.com/ershoufang/pg28/\n",
        "Downloading:"
       ]
      },
      {
       "output_type": "stream",
       "stream": "stdout",
       "text": [
        " http://sz.lianjia.com/ershoufang/pg29/\n",
        "Downloading:"
       ]
      },
      {
       "output_type": "stream",
       "stream": "stdout",
       "text": [
        " http://sz.lianjia.com/ershoufang/pg30/\n",
        "Downloading:"
       ]
      },
      {
       "output_type": "stream",
       "stream": "stdout",
       "text": [
        " http://sz.lianjia.com/ershoufang/pg31/\n",
        "Downloading:"
       ]
      },
      {
       "output_type": "stream",
       "stream": "stdout",
       "text": [
        " http://sz.lianjia.com/ershoufang/pg32/\n",
        "Downloading:"
       ]
      },
      {
       "output_type": "stream",
       "stream": "stdout",
       "text": [
        " http://sz.lianjia.com/ershoufang/pg33/\n",
        "Downloading:"
       ]
      },
      {
       "output_type": "stream",
       "stream": "stdout",
       "text": [
        " http://sz.lianjia.com/ershoufang/pg34/\n",
        "Downloading:"
       ]
      },
      {
       "output_type": "stream",
       "stream": "stdout",
       "text": [
        " http://sz.lianjia.com/ershoufang/pg35/\n",
        "Downloading:"
       ]
      },
      {
       "output_type": "stream",
       "stream": "stdout",
       "text": [
        " http://sz.lianjia.com/ershoufang/pg36/\n",
        "Downloading:"
       ]
      },
      {
       "output_type": "stream",
       "stream": "stdout",
       "text": [
        " http://sz.lianjia.com/ershoufang/pg37/\n",
        "Downloading:"
       ]
      },
      {
       "output_type": "stream",
       "stream": "stdout",
       "text": [
        " http://sz.lianjia.com/ershoufang/pg38/\n",
        "Downloading:"
       ]
      },
      {
       "output_type": "stream",
       "stream": "stdout",
       "text": [
        " http://sz.lianjia.com/ershoufang/pg39/\n",
        "Downloading:"
       ]
      },
      {
       "output_type": "stream",
       "stream": "stdout",
       "text": [
        " http://sz.lianjia.com/ershoufang/pg40/\n",
        "Downloading:"
       ]
      },
      {
       "output_type": "stream",
       "stream": "stdout",
       "text": [
        " http://sz.lianjia.com/ershoufang/pg41/\n",
        "Downloading:"
       ]
      },
      {
       "output_type": "stream",
       "stream": "stdout",
       "text": [
        " http://sz.lianjia.com/ershoufang/pg42/\n",
        "Downloading:"
       ]
      },
      {
       "output_type": "stream",
       "stream": "stdout",
       "text": [
        " http://sz.lianjia.com/ershoufang/pg43/\n",
        "Downloading:"
       ]
      },
      {
       "output_type": "stream",
       "stream": "stdout",
       "text": [
        " http://sz.lianjia.com/ershoufang/pg44/\n",
        "Downloading:"
       ]
      },
      {
       "output_type": "stream",
       "stream": "stdout",
       "text": [
        " http://sz.lianjia.com/ershoufang/pg45/\n",
        "Downloading:"
       ]
      },
      {
       "output_type": "stream",
       "stream": "stdout",
       "text": [
        " http://sz.lianjia.com/ershoufang/pg46/\n",
        "Downloading:"
       ]
      },
      {
       "output_type": "stream",
       "stream": "stdout",
       "text": [
        " http://sz.lianjia.com/ershoufang/pg47/\n",
        "Downloading:"
       ]
      },
      {
       "output_type": "stream",
       "stream": "stdout",
       "text": [
        " http://sz.lianjia.com/ershoufang/pg48/\n",
        "Downloading:"
       ]
      },
      {
       "output_type": "stream",
       "stream": "stdout",
       "text": [
        " http://sz.lianjia.com/ershoufang/pg49/\n",
        "Downloading:"
       ]
      },
      {
       "output_type": "stream",
       "stream": "stdout",
       "text": [
        " http://sz.lianjia.com/ershoufang/pg50/\n",
        "Downloading:"
       ]
      },
      {
       "output_type": "stream",
       "stream": "stdout",
       "text": [
        " http://sz.lianjia.com/ershoufang/pg51/\n",
        "Downloading:"
       ]
      },
      {
       "output_type": "stream",
       "stream": "stdout",
       "text": [
        " http://sz.lianjia.com/ershoufang/pg52/\n",
        "Downloading:"
       ]
      },
      {
       "output_type": "stream",
       "stream": "stdout",
       "text": [
        " http://sz.lianjia.com/ershoufang/pg53/\n",
        "Downloading:"
       ]
      },
      {
       "output_type": "stream",
       "stream": "stdout",
       "text": [
        " http://sz.lianjia.com/ershoufang/pg54/\n",
        "Downloading:"
       ]
      },
      {
       "output_type": "stream",
       "stream": "stdout",
       "text": [
        " http://sz.lianjia.com/ershoufang/pg55/\n",
        "Downloading:"
       ]
      },
      {
       "output_type": "stream",
       "stream": "stdout",
       "text": [
        " http://sz.lianjia.com/ershoufang/pg56/\n",
        "Downloading:"
       ]
      },
      {
       "output_type": "stream",
       "stream": "stdout",
       "text": [
        " http://sz.lianjia.com/ershoufang/pg57/\n",
        "Downloading:"
       ]
      },
      {
       "output_type": "stream",
       "stream": "stdout",
       "text": [
        " http://sz.lianjia.com/ershoufang/pg58/\n",
        "Downloading:"
       ]
      },
      {
       "output_type": "stream",
       "stream": "stdout",
       "text": [
        " http://sz.lianjia.com/ershoufang/pg59/\n",
        "Downloading:"
       ]
      },
      {
       "output_type": "stream",
       "stream": "stdout",
       "text": [
        " http://sz.lianjia.com/ershoufang/pg60/\n",
        "Downloading:"
       ]
      },
      {
       "output_type": "stream",
       "stream": "stdout",
       "text": [
        " http://sz.lianjia.com/ershoufang/pg61/\n",
        "Downloading:"
       ]
      },
      {
       "output_type": "stream",
       "stream": "stdout",
       "text": [
        " http://sz.lianjia.com/ershoufang/pg62/\n",
        "Downloading:"
       ]
      },
      {
       "output_type": "stream",
       "stream": "stdout",
       "text": [
        " http://sz.lianjia.com/ershoufang/pg63/\n",
        "Downloading:"
       ]
      },
      {
       "output_type": "stream",
       "stream": "stdout",
       "text": [
        " http://sz.lianjia.com/ershoufang/pg64/\n",
        "Downloading:"
       ]
      },
      {
       "output_type": "stream",
       "stream": "stdout",
       "text": [
        " http://sz.lianjia.com/ershoufang/pg65/\n",
        "Downloading:"
       ]
      },
      {
       "output_type": "stream",
       "stream": "stdout",
       "text": [
        " http://sz.lianjia.com/ershoufang/pg66/\n",
        "Downloading:"
       ]
      },
      {
       "output_type": "stream",
       "stream": "stdout",
       "text": [
        " http://sz.lianjia.com/ershoufang/pg67/\n",
        "Downloading:"
       ]
      },
      {
       "output_type": "stream",
       "stream": "stdout",
       "text": [
        " http://sz.lianjia.com/ershoufang/pg68/\n",
        "Downloading:"
       ]
      },
      {
       "output_type": "stream",
       "stream": "stdout",
       "text": [
        " http://sz.lianjia.com/ershoufang/pg69/\n",
        "Downloading:"
       ]
      },
      {
       "output_type": "stream",
       "stream": "stdout",
       "text": [
        " http://sz.lianjia.com/ershoufang/pg70/\n",
        "Downloading:"
       ]
      },
      {
       "output_type": "stream",
       "stream": "stdout",
       "text": [
        " http://sz.lianjia.com/ershoufang/pg71/\n",
        "Downloading:"
       ]
      },
      {
       "output_type": "stream",
       "stream": "stdout",
       "text": [
        " http://sz.lianjia.com/ershoufang/pg72/\n",
        "Downloading:"
       ]
      },
      {
       "output_type": "stream",
       "stream": "stdout",
       "text": [
        " http://sz.lianjia.com/ershoufang/pg73/\n",
        "Downloading:"
       ]
      },
      {
       "output_type": "stream",
       "stream": "stdout",
       "text": [
        " http://sz.lianjia.com/ershoufang/pg74/\n",
        "Downloading:"
       ]
      },
      {
       "output_type": "stream",
       "stream": "stdout",
       "text": [
        " http://sz.lianjia.com/ershoufang/pg75/\n",
        "Downloading:"
       ]
      },
      {
       "output_type": "stream",
       "stream": "stdout",
       "text": [
        " http://sz.lianjia.com/ershoufang/pg76/\n",
        "Downloading:"
       ]
      },
      {
       "output_type": "stream",
       "stream": "stdout",
       "text": [
        " http://sz.lianjia.com/ershoufang/pg77/\n",
        "Downloading:"
       ]
      },
      {
       "output_type": "stream",
       "stream": "stdout",
       "text": [
        " http://sz.lianjia.com/ershoufang/pg78/\n",
        "Downloading:"
       ]
      },
      {
       "output_type": "stream",
       "stream": "stdout",
       "text": [
        " http://sz.lianjia.com/ershoufang/pg79/\n",
        "Downloading:"
       ]
      },
      {
       "output_type": "stream",
       "stream": "stdout",
       "text": [
        " http://sz.lianjia.com/ershoufang/pg80/\n",
        "Downloading:"
       ]
      },
      {
       "output_type": "stream",
       "stream": "stdout",
       "text": [
        " http://sz.lianjia.com/ershoufang/pg81/\n",
        "Downloading:"
       ]
      },
      {
       "output_type": "stream",
       "stream": "stdout",
       "text": [
        " http://sz.lianjia.com/ershoufang/pg82/\n",
        "Downloading:"
       ]
      },
      {
       "output_type": "stream",
       "stream": "stdout",
       "text": [
        " http://sz.lianjia.com/ershoufang/pg83/\n",
        "Downloading:"
       ]
      },
      {
       "output_type": "stream",
       "stream": "stdout",
       "text": [
        " http://sz.lianjia.com/ershoufang/pg84/\n",
        "Downloading:"
       ]
      },
      {
       "output_type": "stream",
       "stream": "stdout",
       "text": [
        " http://sz.lianjia.com/ershoufang/pg85/\n",
        "Downloading:"
       ]
      },
      {
       "output_type": "stream",
       "stream": "stdout",
       "text": [
        " http://sz.lianjia.com/ershoufang/pg86/\n",
        "Downloading:"
       ]
      },
      {
       "output_type": "stream",
       "stream": "stdout",
       "text": [
        " http://sz.lianjia.com/ershoufang/pg87/\n",
        "Downloading:"
       ]
      },
      {
       "output_type": "stream",
       "stream": "stdout",
       "text": [
        " http://sz.lianjia.com/ershoufang/pg88/\n",
        "Downloading:"
       ]
      },
      {
       "output_type": "stream",
       "stream": "stdout",
       "text": [
        " http://sz.lianjia.com/ershoufang/pg89/\n",
        "Downloading:"
       ]
      },
      {
       "output_type": "stream",
       "stream": "stdout",
       "text": [
        " http://sz.lianjia.com/ershoufang/pg90/\n",
        "Downloading:"
       ]
      },
      {
       "output_type": "stream",
       "stream": "stdout",
       "text": [
        " http://sz.lianjia.com/ershoufang/pg91/\n",
        "Downloading:"
       ]
      },
      {
       "output_type": "stream",
       "stream": "stdout",
       "text": [
        " http://sz.lianjia.com/ershoufang/pg92/\n",
        "Downloading:"
       ]
      },
      {
       "output_type": "stream",
       "stream": "stdout",
       "text": [
        " http://sz.lianjia.com/ershoufang/pg93/\n",
        "Downloading:"
       ]
      },
      {
       "output_type": "stream",
       "stream": "stdout",
       "text": [
        " http://sz.lianjia.com/ershoufang/pg94/\n",
        "Downloading:"
       ]
      },
      {
       "output_type": "stream",
       "stream": "stdout",
       "text": [
        " http://sz.lianjia.com/ershoufang/pg95/\n",
        "Downloading:"
       ]
      },
      {
       "output_type": "stream",
       "stream": "stdout",
       "text": [
        " http://sz.lianjia.com/ershoufang/pg96/\n",
        "Downloading:"
       ]
      },
      {
       "output_type": "stream",
       "stream": "stdout",
       "text": [
        " http://sz.lianjia.com/ershoufang/pg97/\n",
        "Downloading:"
       ]
      },
      {
       "output_type": "stream",
       "stream": "stdout",
       "text": [
        " http://sz.lianjia.com/ershoufang/pg98/\n",
        "Downloading:"
       ]
      },
      {
       "output_type": "stream",
       "stream": "stdout",
       "text": [
        " http://sz.lianjia.com/ershoufang/pg99/\n",
        "Downloading:"
       ]
      },
      {
       "output_type": "stream",
       "stream": "stdout",
       "text": [
        " http://sz.lianjia.com/ershoufang/pg100/\n",
        "Time End : Wed Feb 08 11:49:10 2017"
       ]
      },
      {
       "output_type": "stream",
       "stream": "stdout",
       "text": [
        "\n"
       ]
      }
     ],
     "prompt_number": 31
    },
    {
     "cell_type": "code",
     "collapsed": false,
     "input": [
      "# run to get deal price for house which had been sold \n",
      "get_price_deal_file()"
     ],
     "language": "python",
     "metadata": {},
     "outputs": [
      {
       "output_type": "stream",
       "stream": "stdout",
       "text": [
        "Time Start : Wed Feb 08 15:04:10 2017\n",
        "Downloading: http://sz.lianjia.com/chengjiao/\n",
        "Downloading:"
       ]
      },
      {
       "output_type": "stream",
       "stream": "stdout",
       "text": [
        " http://sz.lianjia.com/chengjiao/pg2/\n",
        "Downloading:"
       ]
      },
      {
       "output_type": "stream",
       "stream": "stdout",
       "text": [
        " http://sz.lianjia.com/chengjiao/pg3/\n",
        "Downloading:"
       ]
      },
      {
       "output_type": "stream",
       "stream": "stdout",
       "text": [
        " http://sz.lianjia.com/chengjiao/pg4/\n",
        "Downloading:"
       ]
      },
      {
       "output_type": "stream",
       "stream": "stdout",
       "text": [
        " http://sz.lianjia.com/chengjiao/pg5/\n",
        "Downloading:"
       ]
      },
      {
       "output_type": "stream",
       "stream": "stdout",
       "text": [
        " http://sz.lianjia.com/chengjiao/pg6/\n",
        "Downloading:"
       ]
      },
      {
       "output_type": "stream",
       "stream": "stdout",
       "text": [
        " http://sz.lianjia.com/chengjiao/pg7/\n",
        "Downloading:"
       ]
      },
      {
       "output_type": "stream",
       "stream": "stdout",
       "text": [
        " http://sz.lianjia.com/chengjiao/pg8/\n",
        "Downloading:"
       ]
      },
      {
       "output_type": "stream",
       "stream": "stdout",
       "text": [
        " http://sz.lianjia.com/chengjiao/pg9/\n",
        "Downloading:"
       ]
      },
      {
       "output_type": "stream",
       "stream": "stdout",
       "text": [
        " http://sz.lianjia.com/chengjiao/pg10/\n",
        "Downloading:"
       ]
      },
      {
       "output_type": "stream",
       "stream": "stdout",
       "text": [
        " http://sz.lianjia.com/chengjiao/pg11/\n",
        "Downloading:"
       ]
      },
      {
       "output_type": "stream",
       "stream": "stdout",
       "text": [
        " http://sz.lianjia.com/chengjiao/pg12/\n",
        "Downloading:"
       ]
      },
      {
       "output_type": "stream",
       "stream": "stdout",
       "text": [
        " http://sz.lianjia.com/chengjiao/pg13/\n",
        "Downloading:"
       ]
      },
      {
       "output_type": "stream",
       "stream": "stdout",
       "text": [
        " http://sz.lianjia.com/chengjiao/pg14/\n",
        "Downloading:"
       ]
      },
      {
       "output_type": "stream",
       "stream": "stdout",
       "text": [
        " http://sz.lianjia.com/chengjiao/pg15/\n",
        "Downloading:"
       ]
      },
      {
       "output_type": "stream",
       "stream": "stdout",
       "text": [
        " http://sz.lianjia.com/chengjiao/pg16/\n",
        "Downloading:"
       ]
      },
      {
       "output_type": "stream",
       "stream": "stdout",
       "text": [
        " http://sz.lianjia.com/chengjiao/pg17/\n",
        "Downloading:"
       ]
      },
      {
       "output_type": "stream",
       "stream": "stdout",
       "text": [
        " http://sz.lianjia.com/chengjiao/pg18/\n",
        "Downloading:"
       ]
      },
      {
       "output_type": "stream",
       "stream": "stdout",
       "text": [
        " http://sz.lianjia.com/chengjiao/pg19/\n",
        "Downloading:"
       ]
      },
      {
       "output_type": "stream",
       "stream": "stdout",
       "text": [
        " http://sz.lianjia.com/chengjiao/pg20/\n",
        "Downloading:"
       ]
      },
      {
       "output_type": "stream",
       "stream": "stdout",
       "text": [
        " http://sz.lianjia.com/chengjiao/pg21/\n",
        "Downloading:"
       ]
      },
      {
       "output_type": "stream",
       "stream": "stdout",
       "text": [
        " http://sz.lianjia.com/chengjiao/pg22/\n",
        "Downloading:"
       ]
      },
      {
       "output_type": "stream",
       "stream": "stdout",
       "text": [
        " http://sz.lianjia.com/chengjiao/pg23/\n",
        "Downloading:"
       ]
      },
      {
       "output_type": "stream",
       "stream": "stdout",
       "text": [
        " http://sz.lianjia.com/chengjiao/pg24/\n",
        "Downloading:"
       ]
      },
      {
       "output_type": "stream",
       "stream": "stdout",
       "text": [
        " http://sz.lianjia.com/chengjiao/pg25/\n",
        "Downloading:"
       ]
      },
      {
       "output_type": "stream",
       "stream": "stdout",
       "text": [
        " http://sz.lianjia.com/chengjiao/pg26/\n",
        "Downloading:"
       ]
      },
      {
       "output_type": "stream",
       "stream": "stdout",
       "text": [
        " http://sz.lianjia.com/chengjiao/pg27/\n",
        "Downloading:"
       ]
      },
      {
       "output_type": "stream",
       "stream": "stdout",
       "text": [
        " http://sz.lianjia.com/chengjiao/pg28/\n",
        "Downloading:"
       ]
      },
      {
       "output_type": "stream",
       "stream": "stdout",
       "text": [
        " http://sz.lianjia.com/chengjiao/pg29/\n",
        "Downloading:"
       ]
      },
      {
       "output_type": "stream",
       "stream": "stdout",
       "text": [
        " http://sz.lianjia.com/chengjiao/pg30/\n",
        "Downloading:"
       ]
      },
      {
       "output_type": "stream",
       "stream": "stdout",
       "text": [
        " http://sz.lianjia.com/chengjiao/pg31/\n",
        "Downloading:"
       ]
      },
      {
       "output_type": "stream",
       "stream": "stdout",
       "text": [
        " http://sz.lianjia.com/chengjiao/pg32/\n",
        "Downloading:"
       ]
      },
      {
       "output_type": "stream",
       "stream": "stdout",
       "text": [
        " http://sz.lianjia.com/chengjiao/pg33/\n",
        "Downloading:"
       ]
      },
      {
       "output_type": "stream",
       "stream": "stdout",
       "text": [
        " http://sz.lianjia.com/chengjiao/pg34/\n",
        "Downloading:"
       ]
      },
      {
       "output_type": "stream",
       "stream": "stdout",
       "text": [
        " http://sz.lianjia.com/chengjiao/pg35/\n",
        "Downloading:"
       ]
      },
      {
       "output_type": "stream",
       "stream": "stdout",
       "text": [
        " http://sz.lianjia.com/chengjiao/pg36/\n",
        "Downloading:"
       ]
      },
      {
       "output_type": "stream",
       "stream": "stdout",
       "text": [
        " http://sz.lianjia.com/chengjiao/pg37/\n",
        "Downloading:"
       ]
      },
      {
       "output_type": "stream",
       "stream": "stdout",
       "text": [
        " http://sz.lianjia.com/chengjiao/pg38/\n",
        "Downloading:"
       ]
      },
      {
       "output_type": "stream",
       "stream": "stdout",
       "text": [
        " http://sz.lianjia.com/chengjiao/pg39/\n",
        "Downloading:"
       ]
      },
      {
       "output_type": "stream",
       "stream": "stdout",
       "text": [
        " http://sz.lianjia.com/chengjiao/pg40/\n",
        "Downloading:"
       ]
      },
      {
       "output_type": "stream",
       "stream": "stdout",
       "text": [
        " http://sz.lianjia.com/chengjiao/pg41/\n",
        "Downloading:"
       ]
      },
      {
       "output_type": "stream",
       "stream": "stdout",
       "text": [
        " http://sz.lianjia.com/chengjiao/pg42/\n",
        "Downloading:"
       ]
      },
      {
       "output_type": "stream",
       "stream": "stdout",
       "text": [
        " http://sz.lianjia.com/chengjiao/pg43/\n",
        "Downloading:"
       ]
      },
      {
       "output_type": "stream",
       "stream": "stdout",
       "text": [
        " http://sz.lianjia.com/chengjiao/pg44/\n",
        "Downloading:"
       ]
      },
      {
       "output_type": "stream",
       "stream": "stdout",
       "text": [
        " http://sz.lianjia.com/chengjiao/pg45/\n",
        "Downloading:"
       ]
      },
      {
       "output_type": "stream",
       "stream": "stdout",
       "text": [
        " http://sz.lianjia.com/chengjiao/pg46/\n",
        "Downloading:"
       ]
      },
      {
       "output_type": "stream",
       "stream": "stdout",
       "text": [
        " http://sz.lianjia.com/chengjiao/pg47/\n",
        "Downloading:"
       ]
      },
      {
       "output_type": "stream",
       "stream": "stdout",
       "text": [
        " http://sz.lianjia.com/chengjiao/pg48/\n",
        "Downloading:"
       ]
      },
      {
       "output_type": "stream",
       "stream": "stdout",
       "text": [
        " http://sz.lianjia.com/chengjiao/pg49/\n",
        "Downloading:"
       ]
      },
      {
       "output_type": "stream",
       "stream": "stdout",
       "text": [
        " http://sz.lianjia.com/chengjiao/pg50/\n",
        "Downloading:"
       ]
      },
      {
       "output_type": "stream",
       "stream": "stdout",
       "text": [
        " http://sz.lianjia.com/chengjiao/pg51/\n",
        "Downloading:"
       ]
      },
      {
       "output_type": "stream",
       "stream": "stdout",
       "text": [
        " http://sz.lianjia.com/chengjiao/pg52/\n",
        "Downloading:"
       ]
      },
      {
       "output_type": "stream",
       "stream": "stdout",
       "text": [
        " http://sz.lianjia.com/chengjiao/pg53/\n",
        "Downloading:"
       ]
      },
      {
       "output_type": "stream",
       "stream": "stdout",
       "text": [
        " http://sz.lianjia.com/chengjiao/pg54/\n",
        "Downloading:"
       ]
      },
      {
       "output_type": "stream",
       "stream": "stdout",
       "text": [
        " http://sz.lianjia.com/chengjiao/pg55/\n",
        "Downloading:"
       ]
      },
      {
       "output_type": "stream",
       "stream": "stdout",
       "text": [
        " http://sz.lianjia.com/chengjiao/pg56/\n",
        "Downloading:"
       ]
      },
      {
       "output_type": "stream",
       "stream": "stdout",
       "text": [
        " http://sz.lianjia.com/chengjiao/pg57/\n",
        "Downloading:"
       ]
      },
      {
       "output_type": "stream",
       "stream": "stdout",
       "text": [
        " http://sz.lianjia.com/chengjiao/pg58/\n",
        "Downloading:"
       ]
      },
      {
       "output_type": "stream",
       "stream": "stdout",
       "text": [
        " http://sz.lianjia.com/chengjiao/pg59/\n",
        "Downloading:"
       ]
      },
      {
       "output_type": "stream",
       "stream": "stdout",
       "text": [
        " http://sz.lianjia.com/chengjiao/pg60/\n",
        "Downloading:"
       ]
      },
      {
       "output_type": "stream",
       "stream": "stdout",
       "text": [
        " http://sz.lianjia.com/chengjiao/pg61/\n",
        "Downloading:"
       ]
      },
      {
       "output_type": "stream",
       "stream": "stdout",
       "text": [
        " http://sz.lianjia.com/chengjiao/pg62/\n",
        "Downloading:"
       ]
      },
      {
       "output_type": "stream",
       "stream": "stdout",
       "text": [
        " http://sz.lianjia.com/chengjiao/pg63/\n",
        "Downloading:"
       ]
      },
      {
       "output_type": "stream",
       "stream": "stdout",
       "text": [
        " http://sz.lianjia.com/chengjiao/pg64/\n",
        "Downloading:"
       ]
      },
      {
       "output_type": "stream",
       "stream": "stdout",
       "text": [
        " http://sz.lianjia.com/chengjiao/pg65/\n",
        "Downloading:"
       ]
      },
      {
       "output_type": "stream",
       "stream": "stdout",
       "text": [
        " http://sz.lianjia.com/chengjiao/pg66/\n",
        "Downloading:"
       ]
      },
      {
       "output_type": "stream",
       "stream": "stdout",
       "text": [
        " http://sz.lianjia.com/chengjiao/pg67/\n",
        "Downloading:"
       ]
      },
      {
       "output_type": "stream",
       "stream": "stdout",
       "text": [
        " http://sz.lianjia.com/chengjiao/pg68/\n",
        "Downloading:"
       ]
      },
      {
       "output_type": "stream",
       "stream": "stdout",
       "text": [
        " http://sz.lianjia.com/chengjiao/pg69/\n",
        "Downloading:"
       ]
      },
      {
       "output_type": "stream",
       "stream": "stdout",
       "text": [
        " http://sz.lianjia.com/chengjiao/pg70/\n",
        "Downloading:"
       ]
      },
      {
       "output_type": "stream",
       "stream": "stdout",
       "text": [
        " http://sz.lianjia.com/chengjiao/pg71/\n",
        "Downloading:"
       ]
      },
      {
       "output_type": "stream",
       "stream": "stdout",
       "text": [
        " http://sz.lianjia.com/chengjiao/pg72/\n",
        "Downloading:"
       ]
      },
      {
       "output_type": "stream",
       "stream": "stdout",
       "text": [
        " http://sz.lianjia.com/chengjiao/pg73/\n",
        "Downloading:"
       ]
      },
      {
       "output_type": "stream",
       "stream": "stdout",
       "text": [
        " http://sz.lianjia.com/chengjiao/pg74/\n",
        "Downloading:"
       ]
      },
      {
       "output_type": "stream",
       "stream": "stdout",
       "text": [
        " http://sz.lianjia.com/chengjiao/pg75/\n",
        "Downloading:"
       ]
      },
      {
       "output_type": "stream",
       "stream": "stdout",
       "text": [
        " http://sz.lianjia.com/chengjiao/pg76/\n",
        "Downloading:"
       ]
      },
      {
       "output_type": "stream",
       "stream": "stdout",
       "text": [
        " http://sz.lianjia.com/chengjiao/pg77/\n",
        "Downloading:"
       ]
      },
      {
       "output_type": "stream",
       "stream": "stdout",
       "text": [
        " http://sz.lianjia.com/chengjiao/pg78/\n",
        "Downloading:"
       ]
      },
      {
       "output_type": "stream",
       "stream": "stdout",
       "text": [
        " http://sz.lianjia.com/chengjiao/pg79/\n",
        "Downloading:"
       ]
      },
      {
       "output_type": "stream",
       "stream": "stdout",
       "text": [
        " http://sz.lianjia.com/chengjiao/pg80/\n",
        "Downloading:"
       ]
      },
      {
       "output_type": "stream",
       "stream": "stdout",
       "text": [
        " http://sz.lianjia.com/chengjiao/pg81/\n",
        "Downloading:"
       ]
      },
      {
       "output_type": "stream",
       "stream": "stdout",
       "text": [
        " http://sz.lianjia.com/chengjiao/pg82/\n",
        "Downloading:"
       ]
      },
      {
       "output_type": "stream",
       "stream": "stdout",
       "text": [
        " http://sz.lianjia.com/chengjiao/pg83/\n",
        "Downloading:"
       ]
      },
      {
       "output_type": "stream",
       "stream": "stdout",
       "text": [
        " http://sz.lianjia.com/chengjiao/pg84/\n",
        "Downloading:"
       ]
      },
      {
       "output_type": "stream",
       "stream": "stdout",
       "text": [
        " http://sz.lianjia.com/chengjiao/pg85/\n",
        "Downloading:"
       ]
      },
      {
       "output_type": "stream",
       "stream": "stdout",
       "text": [
        " http://sz.lianjia.com/chengjiao/pg86/\n",
        "Downloading:"
       ]
      },
      {
       "output_type": "stream",
       "stream": "stdout",
       "text": [
        " http://sz.lianjia.com/chengjiao/pg87/\n",
        "Downloading:"
       ]
      },
      {
       "output_type": "stream",
       "stream": "stdout",
       "text": [
        " http://sz.lianjia.com/chengjiao/pg88/\n",
        "Downloading:"
       ]
      },
      {
       "output_type": "stream",
       "stream": "stdout",
       "text": [
        " http://sz.lianjia.com/chengjiao/pg89/\n",
        "Downloading:"
       ]
      },
      {
       "output_type": "stream",
       "stream": "stdout",
       "text": [
        " http://sz.lianjia.com/chengjiao/pg90/\n",
        "Downloading:"
       ]
      },
      {
       "output_type": "stream",
       "stream": "stdout",
       "text": [
        " http://sz.lianjia.com/chengjiao/pg91/\n",
        "Downloading:"
       ]
      },
      {
       "output_type": "stream",
       "stream": "stdout",
       "text": [
        " http://sz.lianjia.com/chengjiao/pg92/\n",
        "Downloading:"
       ]
      },
      {
       "output_type": "stream",
       "stream": "stdout",
       "text": [
        " http://sz.lianjia.com/chengjiao/pg93/\n",
        "Downloading:"
       ]
      },
      {
       "output_type": "stream",
       "stream": "stdout",
       "text": [
        " http://sz.lianjia.com/chengjiao/pg94/\n",
        "Downloading:"
       ]
      },
      {
       "output_type": "stream",
       "stream": "stdout",
       "text": [
        " http://sz.lianjia.com/chengjiao/pg95/\n",
        "Downloading:"
       ]
      },
      {
       "output_type": "stream",
       "stream": "stdout",
       "text": [
        " http://sz.lianjia.com/chengjiao/pg96/\n",
        "Downloading:"
       ]
      },
      {
       "output_type": "stream",
       "stream": "stdout",
       "text": [
        " http://sz.lianjia.com/chengjiao/pg97/\n",
        "Downloading:"
       ]
      },
      {
       "output_type": "stream",
       "stream": "stdout",
       "text": [
        " http://sz.lianjia.com/chengjiao/pg98/\n",
        "Downloading:"
       ]
      },
      {
       "output_type": "stream",
       "stream": "stdout",
       "text": [
        " http://sz.lianjia.com/chengjiao/pg99/\n",
        "Downloading:"
       ]
      },
      {
       "output_type": "stream",
       "stream": "stdout",
       "text": [
        " http://sz.lianjia.com/chengjiao/pg100/\n",
        "Time End : Wed Feb 08 15:05:40 2017"
       ]
      },
      {
       "output_type": "stream",
       "stream": "stdout",
       "text": [
        "\n"
       ]
      }
     ],
     "prompt_number": 105
    }
   ],
   "metadata": {}
  }
 ]
}