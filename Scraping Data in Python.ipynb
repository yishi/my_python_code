{
 "cells": [
  {
   "cell_type": "markdown",
   "metadata": {
    "collapsed": false
   },
   "source": [
    "# Scraping Amazon best seller data"
   ]
  },
  {
   "cell_type": "markdown",
   "metadata": {
    "collapsed": true
   },
   "source": [
    "### Version 1.0 \n",
    "### End on June 8th 2016\n",
    "### Reference: Web Scraping with Python"
   ]
  },
  {
   "cell_type": "code",
   "execution_count": 1,
   "metadata": {
    "collapsed": true
   },
   "outputs": [],
   "source": [
    "import urllib2\n",
    "import lxml.html\n",
    "import pandas as pd\n",
    "import time\n",
    "import winsound"
   ]
  },
  {
   "cell_type": "code",
   "execution_count": 2,
   "metadata": {
    "collapsed": true
   },
   "outputs": [],
   "source": [
    "def download(url, user_agent = 'wswp', num_retries = 2):\n",
    "    print 'Downloading:', url\n",
    "    headers = {'User-agent': user_agent}\n",
    "    url = urllib2.quote(url.encode('utf-8'), \":?=/\")\n",
    "    request = urllib2.Request(url, headers = headers)\n",
    "    try:\n",
    "        html = urllib2.urlopen(request).read()\n",
    "    except urllib2.URLError as e:\n",
    "        print 'Download error:', e.reason\n",
    "        html = None\n",
    "        if num_retries > 0:\n",
    "            if hasattr(e, 'code') and 500 <= e.code < 600:\n",
    "                return download(url, user_agent, num_retries-1)\n",
    "    return html"
   ]
  },
  {
   "cell_type": "code",
   "execution_count": 3,
   "metadata": {
    "collapsed": true
   },
   "outputs": [],
   "source": [
    "def get_item_20(raw_web):\n",
    "    tree = lxml.html.fromstring(raw_web)\n",
    "    # get col title\n",
    "    title = [x.text_content() for x in tree.cssselect('.zg_title')]\n",
    "    # get col title_url\n",
    "    title_url = [x.get('href').lstrip() for x in lxml.etree.HTML(raw_web).xpath(u\"//div[@class='zg_title']/a\")]\n",
    "    # get col reviews\n",
    "    reviews = [x.text_content() for x in tree.cssselect('.zg_reviews')]\n",
    "    reviews_clean = pd.Series(reviews).str.replace('\\n', '').str.strip().str.split('[()]')\n",
    "    reviews_new = []\n",
    "    for x in reviews_clean:\n",
    "        if len(x) > 1:\n",
    "             reviews_new.append(x[1])\n",
    "        else: \n",
    "             reviews_new.append(x[0])\n",
    "    # get col star \n",
    "    star = []\n",
    "    for x in reviews_clean:\n",
    "        if len(x) > 1:\n",
    "             star.append(x[0].split(' ')[0])\n",
    "        else: \n",
    "             star.append(x[0])    \n",
    "    # get col price \n",
    "    price = [x.text_content() for x in tree.cssselect('.zg_itemPriceBlock_compact > .zg_price')]\n",
    "    price_clean = pd.Series(price).str.replace('\\n', '').str.split(' ')\n",
    "    price_new = []\n",
    "    for x in price_clean:\n",
    "        if len(x) > 1:\n",
    "             price_new.append(x[-2])\n",
    "        else: \n",
    "             price_new.append(x[-1])\n",
    "\n",
    "    bestseller = pd.DataFrame(data = {'title' : title, 'title_url' : title_url, 'reviews' : reviews_new, 'star' : star, 'price' : price_new})\n",
    "    return bestseller"
   ]
  },
  {
   "cell_type": "code",
   "execution_count": 4,
   "metadata": {
    "collapsed": false
   },
   "outputs": [],
   "source": [
    "def get_item_100(url_first, department):\n",
    "    \n",
    "    # url_first = download(url = url_page1)\n",
    "    \n",
    "    # get links page 2 to 5\n",
    "    other_page = [x.get('href') for x in lxml.etree.HTML(url_first).xpath(u\"//a[@page]\")[1:]]\n",
    "    \n",
    "     # get the first 20 items\n",
    "    output_page = get_item_20(url_first)\n",
    "\n",
    "    # get the other 80 items\n",
    "    for x in other_page:\n",
    "        output_page = output_page.append(get_item_20(download(url = x)))\n",
    "        \n",
    "    # add department \n",
    "    output_page['department'] = department\n",
    "    \n",
    "    output_page.to_csv(path_or_buf = department + '.csv', encoding = 'utf-8')"
   ]
  },
  {
   "cell_type": "code",
   "execution_count": 6,
   "metadata": {
    "collapsed": false
   },
   "outputs": [],
   "source": [
    "def get_level(your_url):\n",
    "    \n",
    "    department = your_url.split('/')[3]\n",
    "    \n",
    "    # download the web page 1\n",
    "    url_first_level = download(url = your_url)\n",
    "    \n",
    "    # get second level links\n",
    "    links = [x.get('href') for x in lxml.etree.HTML(url_first_level).xpath(u\"//ul[@id='zg_browseRoot']/ul/ul/li/a[@href]\")]\n",
    "    \n",
    "    # get the 100 items\n",
    "    get_item_100(url_first_level, department)\n",
    "\n",
    "    # get the other sub department\n",
    "    i = 0\n",
    "    for x in links:\n",
    "        print \"Time Sleep Start : %s\" % time.ctime()\n",
    "        time.sleep( 5 )\n",
    "        print \"Time Sleep End : %s\" % time.ctime()\n",
    "        depart = x.split('/')[3]\n",
    "        raw_url = download(x)\n",
    "        get_item_100(raw_url, depart)\n",
    "        i += 1\n",
    "        print \"Finshed %d sub department, have %d department need to deal with.\" % (i, len(links)-i)\n",
    "        \n",
    "    for n in range(3):\n",
    "        winsound.PlaySound('alert', winsound.SND_ASYNC)\n",
    "        time.sleep(0.5)"
   ]
  },
  {
   "cell_type": "code",
   "execution_count": 7,
   "metadata": {
    "collapsed": true
   },
   "outputs": [],
   "source": [
    "url = 'http://www.amazon.com/Best-Sellers-Home-Kitchen/zgbs/home-garden/ref=zg_bs_nav_0'"
   ]
  },
  {
   "cell_type": "code",
   "execution_count": 8,
   "metadata": {
    "collapsed": false
   },
   "outputs": [
    {
     "name": "stdout",
     "output_type": "stream",
     "text": [
      "Downloading: http://www.amazon.com/Best-Sellers-Home-Kitchen/zgbs/home-garden/ref=zg_bs_nav_0\n",
      "Downloading: http://www.amazon.com/Best-Sellers-Home-Kitchen/zgbs/home-garden/ref=zg_bs_home-garden_pg_2/179-3521453-9734723?_encoding=UTF8&pg=2\n",
      "Downloading: http://www.amazon.com/Best-Sellers-Home-Kitchen/zgbs/home-garden/ref=zg_bs_home-garden_pg_3/179-3521453-9734723?_encoding=UTF8&pg=3\n",
      "Downloading: http://www.amazon.com/Best-Sellers-Home-Kitchen/zgbs/home-garden/ref=zg_bs_home-garden_pg_4/179-3521453-9734723?_encoding=UTF8&pg=4\n",
      "Downloading: http://www.amazon.com/Best-Sellers-Home-Kitchen/zgbs/home-garden/ref=zg_bs_home-garden_pg_5/179-3521453-9734723?_encoding=UTF8&pg=5\n",
      "Time Sleep Start : Wed Jun 08 22:30:39 2016\n",
      "Time Sleep End : Wed Jun 08 22:30:44 2016\n",
      "Downloading: http://www.amazon.com/Best-Sellers-Home-Kitchen-Kids-Store/zgbs/home-garden/3206325011/ref=zg_bs_nav_hg_1_hg/179-3521453-9734723\n",
      "Downloading: http://www.amazon.com/Best-Sellers-Home-Kitchen-Kids-Store/zgbs/home-garden/3206325011/ref=zg_bs_3206325011_pg_2/179-3521453-9734723?_encoding=UTF8&pg=2\n",
      "Downloading: http://www.amazon.com/Best-Sellers-Home-Kitchen-Kids-Store/zgbs/home-garden/3206325011/ref=zg_bs_3206325011_pg_3/179-3521453-9734723?_encoding=UTF8&pg=3\n",
      "Downloading: http://www.amazon.com/Best-Sellers-Home-Kitchen-Kids-Store/zgbs/home-garden/3206325011/ref=zg_bs_3206325011_pg_4/179-3521453-9734723?_encoding=UTF8&pg=4\n",
      "Downloading: http://www.amazon.com/Best-Sellers-Home-Kitchen-Kids-Store/zgbs/home-garden/3206325011/ref=zg_bs_3206325011_pg_5/179-3521453-9734723?_encoding=UTF8&pg=5\n",
      "Finshed 1 sub department, have 12 department need to deal with.\n",
      "Time Sleep Start : Wed Jun 08 22:30:56 2016\n",
      "Time Sleep End : Wed Jun 08 22:31:01 2016\n",
      "Downloading: http://www.amazon.com/Best-Sellers-Home-Kitchen-Dining/zgbs/home-garden/284507/ref=zg_bs_nav_hg_1_hg/179-3521453-9734723\n",
      "Downloading: http://www.amazon.com/Best-Sellers-Home-Kitchen-Dining/zgbs/home-garden/284507/ref=zg_bs_284507_pg_2/179-3521453-9734723?_encoding=UTF8&pg=2\n",
      "Downloading: http://www.amazon.com/Best-Sellers-Home-Kitchen-Dining/zgbs/home-garden/284507/ref=zg_bs_284507_pg_3/179-3521453-9734723?_encoding=UTF8&pg=3\n",
      "Downloading: http://www.amazon.com/Best-Sellers-Home-Kitchen-Dining/zgbs/home-garden/284507/ref=zg_bs_284507_pg_4/179-3521453-9734723?_encoding=UTF8&pg=4\n",
      "Downloading: http://www.amazon.com/Best-Sellers-Home-Kitchen-Dining/zgbs/home-garden/284507/ref=zg_bs_284507_pg_5/179-3521453-9734723?_encoding=UTF8&pg=5\n",
      "Finshed 2 sub department, have 11 department need to deal with.\n",
      "Time Sleep Start : Wed Jun 08 22:31:15 2016\n",
      "Time Sleep End : Wed Jun 08 22:31:20 2016\n",
      "Downloading: http://www.amazon.com/Best-Sellers-Home-Kitchen-Bedding/zgbs/home-garden/1063252/ref=zg_bs_nav_hg_1_hg/179-3521453-9734723\n",
      "Downloading: http://www.amazon.com/Best-Sellers-Home-Kitchen-Bedding/zgbs/home-garden/1063252/ref=zg_bs_1063252_pg_2/179-3521453-9734723?_encoding=UTF8&pg=2\n",
      "Downloading: http://www.amazon.com/Best-Sellers-Home-Kitchen-Bedding/zgbs/home-garden/1063252/ref=zg_bs_1063252_pg_3/179-3521453-9734723?_encoding=UTF8&pg=3\n",
      "Downloading: http://www.amazon.com/Best-Sellers-Home-Kitchen-Bedding/zgbs/home-garden/1063252/ref=zg_bs_1063252_pg_4/179-3521453-9734723?_encoding=UTF8&pg=4\n",
      "Downloading: http://www.amazon.com/Best-Sellers-Home-Kitchen-Bedding/zgbs/home-garden/1063252/ref=zg_bs_1063252_pg_5/179-3521453-9734723?_encoding=UTF8&pg=5\n",
      "Finshed 3 sub department, have 10 department need to deal with.\n",
      "Time Sleep Start : Wed Jun 08 22:31:32 2016\n",
      "Time Sleep End : Wed Jun 08 22:31:37 2016\n",
      "Downloading: http://www.amazon.com/Best-Sellers-Home-Kitchen-Bath-Products/zgbs/home-garden/1063236/ref=zg_bs_nav_hg_1_hg/179-3521453-9734723\n",
      "Downloading: http://www.amazon.com/Best-Sellers-Home-Kitchen-Bath-Products/zgbs/home-garden/1063236/ref=zg_bs_1063236_pg_2/179-3521453-9734723?_encoding=UTF8&pg=2\n",
      "Downloading: http://www.amazon.com/Best-Sellers-Home-Kitchen-Bath-Products/zgbs/home-garden/1063236/ref=zg_bs_1063236_pg_3/179-3521453-9734723?_encoding=UTF8&pg=3\n",
      "Downloading: http://www.amazon.com/Best-Sellers-Home-Kitchen-Bath-Products/zgbs/home-garden/1063236/ref=zg_bs_1063236_pg_4/179-3521453-9734723?_encoding=UTF8&pg=4\n",
      "Downloading: http://www.amazon.com/Best-Sellers-Home-Kitchen-Bath-Products/zgbs/home-garden/1063236/ref=zg_bs_1063236_pg_5/179-3521453-9734723?_encoding=UTF8&pg=5\n",
      "Finshed 4 sub department, have 9 department need to deal with.\n",
      "Time Sleep Start : Wed Jun 08 22:31:54 2016\n",
      "Time Sleep End : Wed Jun 08 22:31:59 2016\n",
      "Downloading: http://www.amazon.com/Best-Sellers-Home-Kitchen-Furniture/zgbs/home-garden/1063306/ref=zg_bs_nav_hg_1_hg/179-3521453-9734723\n",
      "Downloading: http://www.amazon.com/Best-Sellers-Home-Kitchen-Furniture/zgbs/home-garden/1063306/ref=zg_bs_1063306_pg_2/179-3521453-9734723?_encoding=UTF8&pg=2\n",
      "Downloading: http://www.amazon.com/Best-Sellers-Home-Kitchen-Furniture/zgbs/home-garden/1063306/ref=zg_bs_1063306_pg_3/179-3521453-9734723?_encoding=UTF8&pg=3\n",
      "Downloading: http://www.amazon.com/Best-Sellers-Home-Kitchen-Furniture/zgbs/home-garden/1063306/ref=zg_bs_1063306_pg_4/179-3521453-9734723?_encoding=UTF8&pg=4\n",
      "Downloading: http://www.amazon.com/Best-Sellers-Home-Kitchen-Furniture/zgbs/home-garden/1063306/ref=zg_bs_1063306_pg_5/179-3521453-9734723?_encoding=UTF8&pg=5\n",
      "Finshed 5 sub department, have 8 department need to deal with.\n",
      "Time Sleep Start : Wed Jun 08 22:32:13 2016\n",
      "Time Sleep End : Wed Jun 08 22:32:18 2016\n",
      "Downloading: http://www.amazon.com/Best-Sellers-Home-Kitchen-Décor-Products/zgbs/home-garden/1063278/ref=zg_bs_nav_hg_1_hg/179-3521453-9734723\n",
      "Downloading: http://www.amazon.com/Best-Sellers-Home-Kitchen-Décor-Products/zgbs/home-garden/1063278/ref=zg_bs_1063278_pg_2/179-3521453-9734723?_encoding=UTF8&pg=2\n",
      "Downloading: http://www.amazon.com/Best-Sellers-Home-Kitchen-Décor-Products/zgbs/home-garden/1063278/ref=zg_bs_1063278_pg_3/179-3521453-9734723?_encoding=UTF8&pg=3\n",
      "Downloading: http://www.amazon.com/Best-Sellers-Home-Kitchen-Décor-Products/zgbs/home-garden/1063278/ref=zg_bs_1063278_pg_4/179-3521453-9734723?_encoding=UTF8&pg=4\n",
      "Downloading: http://www.amazon.com/Best-Sellers-Home-Kitchen-Décor-Products/zgbs/home-garden/1063278/ref=zg_bs_1063278_pg_5/179-3521453-9734723?_encoding=UTF8&pg=5\n",
      "Finshed 6 sub department, have 7 department need to deal with.\n",
      "Time Sleep Start : Wed Jun 08 22:32:30 2016\n",
      "Time Sleep End : Wed Jun 08 22:32:35 2016\n",
      "Downloading: http://www.amazon.com/Best-Sellers-Home-Kitchen-Artwork/zgbs/home-garden/3736081/ref=zg_bs_nav_hg_1_hg/179-3521453-9734723\n",
      "Downloading: http://www.amazon.com/Best-Sellers-Home-Kitchen-Artwork/zgbs/home-garden/3736081/ref=zg_bs_3736081_pg_2/179-3521453-9734723?_encoding=UTF8&pg=2\n",
      "Downloading: http://www.amazon.com/Best-Sellers-Home-Kitchen-Artwork/zgbs/home-garden/3736081/ref=zg_bs_3736081_pg_3/179-3521453-9734723?_encoding=UTF8&pg=3\n",
      "Downloading: http://www.amazon.com/Best-Sellers-Home-Kitchen-Artwork/zgbs/home-garden/3736081/ref=zg_bs_3736081_pg_4/179-3521453-9734723?_encoding=UTF8&pg=4\n",
      "Downloading: http://www.amazon.com/Best-Sellers-Home-Kitchen-Artwork/zgbs/home-garden/3736081/ref=zg_bs_3736081_pg_5/179-3521453-9734723?_encoding=UTF8&pg=5\n",
      "Finshed 7 sub department, have 6 department need to deal with.\n",
      "Time Sleep Start : Wed Jun 08 22:32:47 2016\n",
      "Time Sleep End : Wed Jun 08 22:32:52 2016\n",
      "Downloading: http://www.amazon.com/Best-Sellers-Home-Kitchen-Seasonal-Décor/zgbs/home-garden/13679381/ref=zg_bs_nav_hg_1_hg/179-3521453-9734723\n",
      "Downloading: http://www.amazon.com/Best-Sellers-Home-Kitchen-Seasonal-Décor/zgbs/home-garden/13679381/ref=zg_bs_13679381_pg_2/179-3521453-9734723?_encoding=UTF8&pg=2\n",
      "Downloading: http://www.amazon.com/Best-Sellers-Home-Kitchen-Seasonal-Décor/zgbs/home-garden/13679381/ref=zg_bs_13679381_pg_3/179-3521453-9734723?_encoding=UTF8&pg=3\n",
      "Downloading: http://www.amazon.com/Best-Sellers-Home-Kitchen-Seasonal-Décor/zgbs/home-garden/13679381/ref=zg_bs_13679381_pg_4/179-3521453-9734723?_encoding=UTF8&pg=4\n",
      "Downloading: http://www.amazon.com/Best-Sellers-Home-Kitchen-Seasonal-Décor/zgbs/home-garden/13679381/ref=zg_bs_13679381_pg_5/179-3521453-9734723?_encoding=UTF8&pg=5\n",
      "Finshed 8 sub department, have 5 department need to deal with.\n",
      "Time Sleep Start : Wed Jun 08 22:33:02 2016\n",
      "Time Sleep End : Wed Jun 08 22:33:07 2016\n",
      "Downloading: http://www.amazon.com/Best-Sellers-Home-Kitchen-Heating-Cooling-Air-Quality/zgbs/home-garden/3206324011/ref=zg_bs_nav_hg_1_hg/179-3521453-9734723\n",
      "Downloading: http://www.amazon.com/Best-Sellers-Home-Kitchen-Heating-Cooling-Air-Quality/zgbs/home-garden/3206324011/ref=zg_bs_3206324011_pg_2/179-3521453-9734723?_encoding=UTF8&pg=2\n",
      "Downloading: http://www.amazon.com/Best-Sellers-Home-Kitchen-Heating-Cooling-Air-Quality/zgbs/home-garden/3206324011/ref=zg_bs_3206324011_pg_3/179-3521453-9734723?_encoding=UTF8&pg=3\n",
      "Downloading: http://www.amazon.com/Best-Sellers-Home-Kitchen-Heating-Cooling-Air-Quality/zgbs/home-garden/3206324011/ref=zg_bs_3206324011_pg_4/179-3521453-9734723?_encoding=UTF8&pg=4\n",
      "Downloading: http://www.amazon.com/Best-Sellers-Home-Kitchen-Heating-Cooling-Air-Quality/zgbs/home-garden/3206324011/ref=zg_bs_3206324011_pg_5/179-3521453-9734723?_encoding=UTF8&pg=5\n",
      "Finshed 9 sub department, have 4 department need to deal with.\n",
      "Time Sleep Start : Wed Jun 08 22:33:19 2016\n",
      "Time Sleep End : Wed Jun 08 22:33:24 2016\n",
      "Downloading: http://www.amazon.com/Best-Sellers-Home-Kitchen-Ironing-Products/zgbs/home-garden/510240/ref=zg_bs_nav_hg_1_hg/179-3521453-9734723\n",
      "Downloading: http://www.amazon.com/Best-Sellers-Home-Kitchen-Ironing-Products/zgbs/home-garden/510240/ref=zg_bs_510240_pg_2/179-3521453-9734723?_encoding=UTF8&pg=2\n",
      "Downloading: http://www.amazon.com/Best-Sellers-Home-Kitchen-Ironing-Products/zgbs/home-garden/510240/ref=zg_bs_510240_pg_3/179-3521453-9734723?_encoding=UTF8&pg=3\n",
      "Downloading: http://www.amazon.com/Best-Sellers-Home-Kitchen-Ironing-Products/zgbs/home-garden/510240/ref=zg_bs_510240_pg_4/179-3521453-9734723?_encoding=UTF8&pg=4\n",
      "Downloading: http://www.amazon.com/Best-Sellers-Home-Kitchen-Ironing-Products/zgbs/home-garden/510240/ref=zg_bs_510240_pg_5/179-3521453-9734723?_encoding=UTF8&pg=5\n",
      "Finshed 10 sub department, have 3 department need to deal with.\n",
      "Time Sleep Start : Wed Jun 08 22:33:42 2016\n",
      "Time Sleep End : Wed Jun 08 22:33:47 2016\n",
      "Downloading: http://www.amazon.com/Best-Sellers-Home-Kitchen-Vacuum-Cleaners-Floor-Care/zgbs/home-garden/510106/ref=zg_bs_nav_hg_1_hg/179-3521453-9734723\n",
      "Downloading: http://www.amazon.com/Best-Sellers-Home-Kitchen-Vacuum-Cleaners-Floor-Care/zgbs/home-garden/510106/ref=zg_bs_510106_pg_2/179-3521453-9734723?_encoding=UTF8&pg=2\n",
      "Downloading: http://www.amazon.com/Best-Sellers-Home-Kitchen-Vacuum-Cleaners-Floor-Care/zgbs/home-garden/510106/ref=zg_bs_510106_pg_3/179-3521453-9734723?_encoding=UTF8&pg=3\n",
      "Downloading: http://www.amazon.com/Best-Sellers-Home-Kitchen-Vacuum-Cleaners-Floor-Care/zgbs/home-garden/510106/ref=zg_bs_510106_pg_4/179-3521453-9734723?_encoding=UTF8&pg=4\n",
      "Downloading: http://www.amazon.com/Best-Sellers-Home-Kitchen-Vacuum-Cleaners-Floor-Care/zgbs/home-garden/510106/ref=zg_bs_510106_pg_5/179-3521453-9734723?_encoding=UTF8&pg=5\n",
      "Finshed 11 sub department, have 2 department need to deal with.\n",
      "Time Sleep Start : Wed Jun 08 22:33:58 2016\n",
      "Time Sleep End : Wed Jun 08 22:34:03 2016\n",
      "Downloading: http://www.amazon.com/Best-Sellers-Home-Kitchen-Storage-Organization/zgbs/home-garden/3610841/ref=zg_bs_nav_hg_1_hg/179-3521453-9734723\n",
      "Downloading: http://www.amazon.com/Best-Sellers-Home-Kitchen-Storage-Organization/zgbs/home-garden/3610841/ref=zg_bs_3610841_pg_2/179-3521453-9734723?_encoding=UTF8&pg=2\n",
      "Downloading: http://www.amazon.com/Best-Sellers-Home-Kitchen-Storage-Organization/zgbs/home-garden/3610841/ref=zg_bs_3610841_pg_3/179-3521453-9734723?_encoding=UTF8&pg=3\n",
      "Downloading: http://www.amazon.com/Best-Sellers-Home-Kitchen-Storage-Organization/zgbs/home-garden/3610841/ref=zg_bs_3610841_pg_4/179-3521453-9734723?_encoding=UTF8&pg=4\n",
      "Downloading: http://www.amazon.com/Best-Sellers-Home-Kitchen-Storage-Organization/zgbs/home-garden/3610841/ref=zg_bs_3610841_pg_5/179-3521453-9734723?_encoding=UTF8&pg=5\n",
      "Finshed 12 sub department, have 1 department need to deal with.\n",
      "Time Sleep Start : Wed Jun 08 22:34:18 2016\n",
      "Time Sleep End : Wed Jun 08 22:34:23 2016\n",
      "Downloading: http://www.amazon.com/Best-Sellers-Home-Kitchen-Household-Cleaning-Supplies/zgbs/home-garden/10802561/ref=zg_bs_nav_hg_1_hg/179-3521453-9734723\n",
      "Downloading: http://www.amazon.com/Best-Sellers-Home-Kitchen-Household-Cleaning-Supplies/zgbs/home-garden/10802561/ref=zg_bs_10802561_pg_2/179-3521453-9734723?_encoding=UTF8&pg=2\n",
      "Downloading: http://www.amazon.com/Best-Sellers-Home-Kitchen-Household-Cleaning-Supplies/zgbs/home-garden/10802561/ref=zg_bs_10802561_pg_3/179-3521453-9734723?_encoding=UTF8&pg=3\n",
      "Downloading: http://www.amazon.com/Best-Sellers-Home-Kitchen-Household-Cleaning-Supplies/zgbs/home-garden/10802561/ref=zg_bs_10802561_pg_4/179-3521453-9734723?_encoding=UTF8&pg=4\n",
      "Downloading: http://www.amazon.com/Best-Sellers-Home-Kitchen-Household-Cleaning-Supplies/zgbs/home-garden/10802561/ref=zg_bs_10802561_pg_5/179-3521453-9734723?_encoding=UTF8&pg=5\n",
      "Finshed 13 sub department, have 0 department need to deal with.\n"
     ]
    }
   ],
   "source": [
    "get_level(url)"
   ]
  }
 ],
 "metadata": {
  "kernelspec": {
   "display_name": "Python 2",
   "language": "python",
   "name": "python2"
  },
  "language_info": {
   "codemirror_mode": {
    "name": "ipython",
    "version": 2
   },
   "file_extension": ".py",
   "mimetype": "text/x-python",
   "name": "python",
   "nbconvert_exporter": "python",
   "pygments_lexer": "ipython2",
   "version": "2.7.11"
  }
 },
 "nbformat": 4,
 "nbformat_minor": 0
}
